{
 "cells": [
  {
   "cell_type": "markdown",
   "metadata": {},
   "source": [
    "When a decorator is applied to a function, the function is redefined to the return value of the decorator. This simple wrapper just returns the function. As a result, it has no effect on the function. "
   ]
  },
  {
   "cell_type": "code",
   "execution_count": 12,
   "metadata": {
    "collapsed": false
   },
   "outputs": [
    {
     "name": "stdout",
     "output_type": "stream",
     "text": [
      "Hello world\n"
     ]
    }
   ],
   "source": [
    "def donothing(func):\n",
    "    return func\n",
    "\n",
    "@donothing\n",
    "def func2():\n",
    "    print('Hello world')\n",
    "    \n",
    "func2()\n"
   ]
  },
  {
   "cell_type": "code",
   "execution_count": 3,
   "metadata": {
    "collapsed": false
   },
   "outputs": [
    {
     "name": "stdout",
     "output_type": "stream",
     "text": [
      "You have entered another dimension!\n",
      "Hello world\n",
      "You are leaving this dimension!\n"
     ]
    }
   ],
   "source": [
    "def decorator(func):\n",
    "    def wrapper():\n",
    "        print(\"You have entered another dimension!\")\n",
    "        func()\n",
    "        print('You are leaving this dimension!')\n",
    "    return wrapper\n",
    "\n",
    "@decorator\n",
    "def func2():\n",
    "    print('Hello world')\n",
    "    \n",
    "func2()"
   ]
  },
  {
   "cell_type": "code",
   "execution_count": 13,
   "metadata": {
    "collapsed": false
   },
   "outputs": [
    {
     "name": "stdout",
     "output_type": "stream",
     "text": [
      "{'welcome': <function hello at 0x7fad38052950>, 'bye': <function bye at 0x7fad38052048>}\n",
      "Hello, Bob!\n",
      "Bye!\n"
     ]
    }
   ],
   "source": [
    "mapping = {}\n",
    "name = ''\n",
    "\n",
    "def on_welcome(func):\n",
    "    mapping['welcome'] = func\n",
    "    return func\n",
    "\n",
    "def on_bye(func):\n",
    "    mapping['bye'] = func\n",
    "    return func\n",
    "\n",
    "@on_welcome\n",
    "def hello(arg):\n",
    "    print('Hello, ' + arg + '!')\n",
    "    \n",
    "@on_bye\n",
    "def bye():\n",
    "    print('Bye!')\n",
    "print(mapping)\n",
    "mapping['welcome']('Bob')\n",
    "mapping['bye']()"
   ]
  },
  {
   "cell_type": "code",
   "execution_count": 15,
   "metadata": {
    "collapsed": false
   },
   "outputs": [
    {
     "name": "stdout",
     "output_type": "stream",
     "text": [
      "{'welcome': <function hello at 0x7fad38052378>, 'bye': <function bye at 0x7fad380528c8>}\n",
      "Hello, Bob!\n",
      "Bye, Bob!\n"
     ]
    }
   ],
   "source": [
    "mapping = {}\n",
    "person = ''\n",
    "\n",
    "def on_welcome(name):\n",
    "    global person\n",
    "    person = name\n",
    "    def wrapper(func):\n",
    "        mapping['welcome'] = func\n",
    "    return wrapper\n",
    "\n",
    "def on_bye(func):\n",
    "    mapping['bye'] = func\n",
    "    return func\n",
    "\n",
    "@on_welcome('Bob')\n",
    "def hello():\n",
    "    print('Hello, ' + person + '!')\n",
    "    \n",
    "@on_bye\n",
    "def bye():\n",
    "    print('Bye, ' + person + '!')\n",
    "print(mapping)\n",
    "mapping['welcome']()\n",
    "mapping['bye']()"
   ]
  },
  {
   "cell_type": "code",
   "execution_count": null,
   "metadata": {
    "collapsed": true
   },
   "outputs": [],
   "source": []
  }
 ],
 "metadata": {
  "anaconda-cloud": {},
  "kernelspec": {
   "display_name": "Python [conda root]",
   "language": "python",
   "name": "conda-root-py"
  },
  "language_info": {
   "codemirror_mode": {
    "name": "ipython",
    "version": 3
   },
   "file_extension": ".py",
   "mimetype": "text/x-python",
   "name": "python",
   "nbconvert_exporter": "python",
   "pygments_lexer": "ipython3",
   "version": "3.5.2"
  }
 },
 "nbformat": 4,
 "nbformat_minor": 1
}
